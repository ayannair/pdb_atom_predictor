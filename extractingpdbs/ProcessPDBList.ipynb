{
 "cells": [
  {
   "cell_type": "markdown",
   "id": "7bb267f2",
   "metadata": {
    "slideshow": {
     "slide_type": "slide"
    }
   },
   "source": [
    "# Process culled PDB list\n",
    "\n"
   ]
  },
  {
   "cell_type": "markdown",
   "id": "8dbd0383",
   "metadata": {},
   "source": [
    "the following code reads the original PDB list and extracts just the PDB codes and chain IDs"
   ]
  },
  {
   "cell_type": "code",
   "execution_count": null,
   "id": "37d4c372",
   "metadata": {},
   "outputs": [],
   "source": [
    "tag = 'longer' # alternative first"
   ]
  },
  {
   "cell_type": "code",
   "execution_count": null,
   "id": "6c10f57d",
   "metadata": {
    "slideshow": {
     "slide_type": "slide"
    }
   },
   "outputs": [],
   "source": [
    "import sys\n",
    "\n",
    "input_filename = f\"{tag}_PDB_files_list.txt\"\n",
    "print(f'reading from: >{input_filename}<')\n",
    "\n",
    "output_filename = f\"{tag}_pdb_chain.txt\"\n",
    "print(f'writing to: >{output_filename}<')\n",
    "\n",
    "input_file = open(input_filename,'r')\n",
    "output_file = open(output_filename,'w')\n",
    " \n",
    "for line in input_file:\n",
    "# check whether we are reading the header line\n",
    "    if (line.find('PDBchain')>=0):\n",
    "        print(f'skipping header: {line}')\n",
    "    else:\n",
    "# it's not the header, so let's extract the PDB and chain\n",
    "        items=line.split()\n",
    "        pdb_chain=items[0]\n",
    "        pdb=pdb_chain[0:4]\n",
    "        chain=pdb_chain[4]\n",
    "        print(f'found pdb code: {pdb}  chain: {chain}')\n",
    "        output_file.write(f'{pdb} {chain}\\n')\n",
    "        \n",
    "input_file.close()\n",
    "output_file.close()"
   ]
  },
  {
   "cell_type": "markdown",
   "id": "e210798c",
   "metadata": {
    "slideshow": {
     "slide_type": "fragment"
    }
   },
   "source": [
    "The next piece of code reads the file 'longer_pdb_chain.txt' (or 'first_pdb_chain.txt') and downloads the corresponding PDB files from the Internet using wget"
   ]
  },
  {
   "cell_type": "code",
   "execution_count": null,
   "id": "503a0ab5",
   "metadata": {
    "scrolled": true
   },
   "outputs": [],
   "source": [
    "import os\n",
    "\n",
    "output_filename = f\"{tag}_pdb_chain.txt\"\n",
    "pdblist=open(output_filename)\n",
    "\n",
    "pdb_directory=\"downloaded_pdbs\"\n",
    "\n",
    "os.makedirs(pdb_directory,exist_ok=True)\n",
    "\n",
    "for line in pdblist:\n",
    "    items=line.split()\n",
    "    pdb=items[0]\n",
    "    if (os.path.isfile(f\"{pdb_directory}/{pdb}.pdb\")):\n",
    "        print(f\"{pdb} has already been downloaded and will be skipped.\")\n",
    "    else:\n",
    "        print(f\"downloading {pdb}\")\n",
    "        os.system(f\"wget -q -N -O {pdb_directory}/{pdb}.pdb https://files.rcsb.org/download/{pdb}.pdb\")\n",
    "    "
   ]
  },
  {
   "cell_type": "markdown",
   "id": "cefbd690",
   "metadata": {},
   "source": [
    "In the following we will read each PDB file and extract ATOM records for the specificed chains.\n",
    "\n",
    "input: downloaded_pdbs/ABCD.pdb\n",
    "\n",
    "output: chains/ABCD_X.pdb"
   ]
  },
  {
   "cell_type": "code",
   "execution_count": null,
   "id": "c473382e",
   "metadata": {},
   "outputs": [],
   "source": [
    "import os\n",
    "\n",
    "output_filename = f\"{tag}_pdb_chain.txt\"\n",
    "pdblist=open(output_filename)\n",
    "\n",
    "pdb_directory=\"downloaded_pdbs\"\n",
    "chain_directory=\"chains\"\n",
    "\n",
    "os.makedirs(chain_directory,exist_ok=True)\n",
    "\n",
    "for line in pdblist:\n",
    "    items=line.split()\n",
    "    pdb=items[0]\n",
    "    chain=items[1]\n",
    "    \n",
    "    pdb_filename=f\"{pdb_directory}/{pdb}.pdb\"\n",
    "    chain_filename=f\"{chain_directory}/{pdb}_{chain}.pdb\"\n",
    "        \n",
    "    # check whether we can find the downloaded PDB file\n",
    "    if (not os.path.isfile(pdb_filename)):\n",
    "        print(f\"file for {pdb} has not been downloaded, skipping\")\n",
    "    else:\n",
    "        # check whether we have already extracted the chain\n",
    "        if (os.path.isfile(chain_filename)):\n",
    "            print(f\"{pdb}_{chain} has already been generated, skipping\")\n",
    "        else:\n",
    "            # PDB exists, file not present, let's go!\n",
    "            print(f\"processing {pdb} chain {chain}\")\n",
    "\n",
    "            pdb_file=open(pdb_filename,\"r\")\n",
    "            chain_file=open(chain_filename,\"w\")\n",
    "            \n",
    "            written_lines=0\n",
    "            for line in pdb_file:\n",
    "                # check that line begins with 'ATOM'\n",
    "                if (len(line)>4 and line[0:4] == 'ATOM'):\n",
    "                    # check that we have the correct chain\n",
    "                    if (len(line)>21 and line[21] == chain):\n",
    "                        # check that the alternate character is 'A' or ' '\n",
    "                        if (line[16] == 'A' or line[16] ==' '):        \n",
    "                            line=line[0:16]+' '+line[17:]              \n",
    "                            chain_file.write(line)\n",
    "                            written_lines+=1\n",
    "        \n",
    "            if (written_lines>0):\n",
    "                chain_file.write('TER\\n')\n",
    "                chain_file.write('END\\n')\n",
    "                chain_file.close()\n",
    "            else:\n",
    "                chain_file.close()\n",
    "                os.remove(chain_filename)\n",
    "                \n",
    "        \n",
    "                "
   ]
  },
  {
   "cell_type": "markdown",
   "id": "6f068964",
   "metadata": {
    "slideshow": {
     "slide_type": "-"
    }
   },
   "source": [
    "Now we will check the PDB files to see whether there are any gaps in the residues indices as that indicates missing structural parts."
   ]
  },
  {
   "cell_type": "code",
   "execution_count": null,
   "id": "679084c5",
   "metadata": {},
   "outputs": [],
   "source": [
    "import os\n",
    "\n",
    "output_filename = f\"{tag}_pdb_chain.txt\"\n",
    "pdblist=open(output_filename)\n",
    "\n",
    "new_pdbchain = f\"{tag}_clean_pdb_chain.txt\"\n",
    "newlist=open(new_pdbchain,\"w\")\n",
    "\n",
    "pdb_directory=\"downloaded_pdbs\"\n",
    "chain_directory=\"chains\"\n",
    "\n",
    "for line in pdblist:\n",
    "    items=line.split()\n",
    "    pdb=items[0]\n",
    "    chain=items[1]\n",
    "    \n",
    "    chain_filename=f\"{chain_directory}/{pdb}_{chain}.pdb\"\n",
    "        \n",
    "    # check whether we can find the prepared PDB file\n",
    "    if (not os.path.isfile(chain_filename)):\n",
    "        print(f\"file {chain_filename} has not been generated, skipping\")\n",
    "    else:\n",
    "        chain_file=open(chain_filename,\"r\")\n",
    "        \n",
    "        # variable to hold list of segments\n",
    "        seglist=[]\n",
    "        first=last=-999\n",
    "        for line in chain_file:\n",
    "            # we will only check C-alpha atoms\n",
    "            if (len(line)>30 and line[13:16] == 'CA '):\n",
    "                # get residue number\n",
    "                residue_number=int(line[22:26])\n",
    "                # save first residue number, initial value is -999\n",
    "                if (first<-100):\n",
    "                    first=residue_number\n",
    "                else:\n",
    "                    # check if there is a gap, i.e. current residue number does not follow last one\n",
    "                    # added condition to also check whether next residue number is smaller than previous\n",
    "                    if (residue_number>last+1 or residue_number<last):\n",
    "                        # if we have a gap, record first and last residue of previous segment\n",
    "                        seglist+=[[first, last]]\n",
    "                        # reset first residue to current residue number to start new segment\n",
    "                        first=residue_number\n",
    "                # save current residue number as last residue\n",
    "                last=residue_number\n",
    "        # record last segment        \n",
    "        seglist+=[[first,last]]\n",
    "                \n",
    "        if (len(seglist)>1):\n",
    "            # we have more than one segment\n",
    "            print(f\"skipping {pdb} {chain} with multiple segments: {seglist}\")\n",
    "        else:\n",
    "            # write PDB/chain ID to new list to be used later for further processing\n",
    "            newlist.write(f'{pdb} {chain}\\n')\n",
    "            \n",
    "newlist.close()"
   ]
  },
  {
   "cell_type": "code",
   "execution_count": null,
   "id": "c19659c1",
   "metadata": {},
   "outputs": [],
   "source": []
  }
 ],
 "metadata": {
  "celltoolbar": "Slideshow",
  "kernelspec": {
   "display_name": "Python 3 (ipykernel)",
   "language": "python",
   "name": "python3"
  },
  "language_info": {
   "codemirror_mode": {
    "name": "ipython",
    "version": 3
   },
   "file_extension": ".py",
   "mimetype": "text/x-python",
   "name": "python",
   "nbconvert_exporter": "python",
   "pygments_lexer": "ipython3",
   "version": "3.9.9"
  }
 },
 "nbformat": 4,
 "nbformat_minor": 5
}
